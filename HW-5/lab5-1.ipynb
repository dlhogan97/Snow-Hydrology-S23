{
 "cells": [
  {
   "attachments": {},
   "cell_type": "markdown",
   "metadata": {},
   "source": [
    "# Lab 5-1: Surface Energy Balance at Kettle Ponds\n",
    "Written by Daniel Hogan - April, 2023"
   ]
  },
  {
   "cell_type": "code",
   "execution_count": 49,
   "metadata": {},
   "outputs": [],
   "source": [
    "import xarray as xr\n",
    "import numpy as np\n",
    "import os \n",
    "import urllib\n",
    "import pandas as pd\n",
    "import datetime as dt\n",
    "from pysolar.solar import *"
   ]
  },
  {
   "attachments": {},
   "cell_type": "markdown",
   "metadata": {},
   "source": [
    "### SOS Data"
   ]
  },
  {
   "cell_type": "code",
   "execution_count": 26,
   "metadata": {},
   "outputs": [],
   "source": [
    "def download_sos_data_day(date, local_download_dir, cache=True):\n",
    "    \"\"\"Download a netcdf file from the ftp url provided by the Earth Observing \n",
    "    Laboratory at NCAR. Data comes in one NetCDF file per day, Reynolds-Averaged \n",
    "    with a 5-minute averaging period.\n",
    "\n",
    "    Args:\n",
    "        date (str, optional): String representing a date in format '%Y%m%d'. Defaults to '20221101'.\n",
    "        local_download_dir (str, optional): Directory to which files will be downloaded. Defaults \n",
    "                    to 'sosnoqc'; this directory will be created if it  does not already exist.\n",
    "        cache (bool, optional): If True, looks in `local_download_dir` for requested  file, if it \n",
    "                    exists, does not redownload file. If False, downloads file from the FTP server.\n",
    "\n",
    "    Returns:\n",
    "        _type_: Relative path to the downloaded file\n",
    "    \"\"\"\n",
    "    base_url = 'ftp.eol.ucar.edu'\n",
    "    path = 'pub/archive/isfs/projects/SOS/netcdf/noqc_geo'\n",
    "    file = f'isfs_{date}.nc'\n",
    "    os.makedirs(local_download_dir, exist_ok=True)\n",
    "    full_file_path = os.path.join('ftp://', base_url, path, file)\n",
    "    download_file_path = os.path.join(local_download_dir, file)\n",
    "    if cache and os.path.isfile(download_file_path):\n",
    "        print(f\"Caching...skipping download for {date}\")\n",
    "    else:\n",
    "        urllib.request.urlretrieve(\n",
    "            full_file_path,\n",
    "            download_file_path   \n",
    "        )\n",
    "    return download_file_path"
   ]
  },
  {
   "attachments": {},
   "cell_type": "markdown",
   "metadata": {},
   "source": [
    "### Use this if you need to download data still..."
   ]
  },
  {
   "cell_type": "code",
   "execution_count": 27,
   "metadata": {},
   "outputs": [
    {
     "name": "stdout",
     "output_type": "stream",
     "text": [
      "Caching...skipping download for 20230101\n"
     ]
    },
    {
     "data": {
      "text/plain": [
       "'../data/sosnoqc/isfs_20230101.nc'"
      ]
     },
     "execution_count": 27,
     "metadata": {},
     "output_type": "execute_result"
    }
   ],
   "source": [
    "local_download_dir = '../data/sosnoqc/'\n",
    "download_sos_data_day('20230101', local_download_dir)"
   ]
  },
  {
   "attachments": {},
   "cell_type": "markdown",
   "metadata": {},
   "source": [
    "### Import a subset of days"
   ]
  },
  {
   "cell_type": "code",
   "execution_count": 32,
   "metadata": {},
   "outputs": [],
   "source": [
    "datelist = ['20230101','20230102','20230103','20230104']\n",
    "\n",
    "sos_datasets = [xr.open_dataset(f'../data/sosnoqc/isfs_{date}.nc') for date in datelist]\n",
    "sos_ds = xr.concat(sos_datasets, dim='time')"
   ]
  },
  {
   "cell_type": "code",
   "execution_count": 35,
   "metadata": {},
   "outputs": [],
   "source": [
    "SIGMA = 5.67e-8 # Stephan-Boltzmann Constant\n",
    "sos_ds = sos_ds.assign(LWout = (sos_ds.Rpile_out_9m_d + (sos_ds.Tcase_out_9m_d+273.15)**4*SIGMA),\n",
    "              LWin = (sos_ds.Rpile_in_9m_d + (sos_ds.Tcase_out_9m_d+273.15)**4*SIGMA))"
   ]
  },
  {
   "cell_type": "code",
   "execution_count": 39,
   "metadata": {},
   "outputs": [],
   "source": [
    "VARIABLES = ['Rsw_in_9m_d',\n",
    "            'Rsw_out_9m_d',\n",
    "            'LWout',\n",
    "            'LWin']\n",
    "\n",
    "sos_seb_ds = sos_ds[VARIABLES]"
   ]
  },
  {
   "attachments": {},
   "cell_type": "markdown",
   "metadata": {},
   "source": [
    "### Pull in the data from SPLASH RADSYS"
   ]
  },
  {
   "cell_type": "code",
   "execution_count": 6,
   "metadata": {},
   "outputs": [],
   "source": [
    "'''\n",
    "radsys_grabber.py\n",
    "\n",
    "Given a start and end date, this will load radys data into an xarray dataset\n",
    "'''\n",
    "import pandas as pd\n",
    "import xarray as xr\n",
    "import datetime as dt\n",
    "import json\n",
    "import pytz\n",
    "\n",
    "def get_daily_radsys_data(start, end):\n",
    "    # url to request from\n",
    "    base_url = 'https://gml.noaa.gov/aftp/data/radiation/campaigns/Format/ckp/'\n",
    "\n",
    "    # format dates\n",
    "    if not isinstance(start, dt.date): \n",
    "        start = dt.datetime.strptime(start,'%Y-%m-%d')\n",
    "    if not isinstance(end, dt.date): \n",
    "        end = dt.datetime.strptime(end ,'%Y-%m-%d')\n",
    "\n",
    "    # get time delta    \n",
    "    delta = end - start\n",
    "    \n",
    "    dates = []\n",
    "    for i in range(delta.days + 1):\n",
    "        dates.append(start + dt.timedelta(days=i))\n",
    "\n",
    "    url_list = []\n",
    "    for date in dates:\n",
    "        if date.timetuple().tm_yday < 10:\n",
    "            url_list.append(base_url+f'ckp{str(date.year)[-2:]}00{date.timetuple().tm_yday}.dat')\n",
    "        elif date.timetuple().tm_yday < 100:\n",
    "            url_list.append(base_url+f'ckp{str(date.year)[-2:]}0{date.timetuple().tm_yday}.dat')\n",
    "        else: \n",
    "            url_list.append(base_url+f'ckp{str(date.year)[-2:]}{date.timetuple().tm_yday}.dat')\n",
    "    datasets = []\n",
    "    for fn in url_list:\n",
    "        # read in data\n",
    "        print(f'Grabbing {fn}...')\n",
    "        ckp_df = pd.read_csv(fn, \n",
    "                             skiprows=2, \n",
    "                             header=None, \n",
    "                             delim_whitespace=True, \n",
    "                             parse_dates={'time':[0,2,3,4,5]}, \n",
    "                             infer_datetime_format=True)\n",
    "        datasets.append(met_data_formatting(ckp_df))\n",
    "        print('Done!')\n",
    "    radsys_ds = xr.concat(datasets, dim='time')\n",
    "    radsys_ds.attrs.update({'QC_flag':'0 for good data, 1 for bad data, 2 for questionable data',\n",
    "                       'no_data': -9999.9,\n",
    "                       'time':'UTC',\n",
    "                       'reported_data':'Reported data are 1 minute averages of 1 second samples, reported times are the end of the 1-min. averaging period',\n",
    "                       'datastreamname':'Radsys'})\n",
    "    # add a coordinate with LocalTime for Plotting\n",
    "    # time_utc = radsys_ds['time'].to_index().tz_localize(pytz.UTC)\n",
    "    # us_mtn = pytz.timezone('US/Mountain')\n",
    "    # tz_corrected = time_utc.tz_convert(us_mtn).tz_localize(None)\n",
    "    # local_da=xr.DataArray.from_series(tz_corrected)\n",
    "    # radsys_ds.coords.update({'local_time':tz_corrected})\n",
    "\n",
    "\n",
    "    with open('radsys_attributes.txt', 'r') as j:\n",
    "        attribute_dict = json.loads(j.read())\n",
    "    for variable in radsys_ds.variables:\n",
    "        if variable in attribute_dict.keys():\n",
    "            radsys_ds[variable].attrs.update(attribute_dict[variable])\n",
    "    return radsys_ds\n",
    "\n",
    "def met_data_formatting(ckp_df):\n",
    "    \n",
    "    # Convert DateTime column to datetime\n",
    "    ckp_df['time'] = pd.to_datetime(ckp_df['time'], format='%Y %m %d %H %M')\n",
    "    # Add column numbers\n",
    "    col_num = [1,2,3,4,5,6,7,8,9,11,13,15,17,19,21,23,25,27,29,31,33,35,37,39,41,43,45,47,49,51]\n",
    "    col_num = [num - 1 for num in col_num]\n",
    "    col_names = [\"yyyy\",\"jday\",\"month\",\"day\",\"hour\",\"min\",\"dt\",\"SZA\",\"dw_solar\",\"uw_solar\",\"Direct horizontal\",\"Diffuse\",\n",
    "                \"dw_ir\",\"DwCaseTemp\",\"DwDomeTemp\",\"uw_ir\",\"UwCaseTemp\",\"UwDomeTemp\",\"UVB\",\"PAR\",\"NetSolar\",\"NetIR\",\n",
    "                \"TotalNet\",\"AirTemp\",\"RH\",\"WindSpd\",\"WindDir\",\"Baro\",\"SPN1_total_Avg\",\"SPN1_diffuse_Avg\"]\n",
    "    ckp_df = ckp_df.rename(columns = dict(zip(col_num, col_names))) \n",
    "    # Create QC column names\n",
    "    qc_col_numbers = ckp_df.columns[5::2]\n",
    "    new_qc_names = [f'{col_name}_qc' for col_name in ckp_df.columns[4::2]]\n",
    "    ckp_df = ckp_df.rename(columns = dict(zip(qc_col_numbers,new_qc_names)))\n",
    "\n",
    "    ckp_ds = ckp_df.set_index('time', drop=True).to_xarray()\n",
    "    return ckp_ds"
   ]
  },
  {
   "attachments": {},
   "cell_type": "markdown",
   "metadata": {},
   "source": [
    "### Define start and end dates -- Note this is not in local time!"
   ]
  },
  {
   "cell_type": "code",
   "execution_count": 8,
   "metadata": {},
   "outputs": [
    {
     "name": "stdout",
     "output_type": "stream",
     "text": [
      "Grabbing https://gml.noaa.gov/aftp/data/radiation/campaigns/Format/ckp/ckp23001.dat...\n",
      "Done!\n",
      "Grabbing https://gml.noaa.gov/aftp/data/radiation/campaigns/Format/ckp/ckp23002.dat...\n",
      "Done!\n",
      "Grabbing https://gml.noaa.gov/aftp/data/radiation/campaigns/Format/ckp/ckp23003.dat...\n",
      "Done!\n",
      "Grabbing https://gml.noaa.gov/aftp/data/radiation/campaigns/Format/ckp/ckp23004.dat...\n",
      "Done!\n"
     ]
    }
   ],
   "source": [
    "radsys_ds = get_daily_radsys_data('2023-01-01','2023-01-04')"
   ]
  },
  {
   "cell_type": "code",
   "execution_count": 11,
   "metadata": {},
   "outputs": [],
   "source": [
    "time_utc = radsys_ds['time'].to_index().tz_localize(pytz.UTC)\n",
    "us_mtn = pytz.timezone('US/Mountain')\n",
    "tz_corrected = time_utc.tz_convert(us_mtn).tz_localize(None)\n",
    "local_da=xr.DataArray.from_series(tz_corrected)\n",
    "radsys_ds.coords.update({'LocalTime':tz_corrected})"
   ]
  },
  {
   "cell_type": "code",
   "execution_count": 12,
   "metadata": {},
   "outputs": [],
   "source": [
    "netrad = (radsys_ds.where(radsys_ds['dw_solar_qc'] == 0).groupby('LocalTime.hour').mean()['dw_solar'] - \\\n",
    "radsys_ds.where(radsys_ds['uw_solar_qc'] == 0).groupby('LocalTime.hour').mean()['uw_solar']) + \\\n",
    "(radsys_ds.where(radsys_ds['dw_ir_qc'] == 0).groupby('LocalTime.hour').mean()['dw_ir'] - \\\n",
    "radsys_ds.where(radsys_ds['uw_ir_qc'] == 0).groupby('LocalTime.hour').mean()['uw_ir'])"
   ]
  },
  {
   "cell_type": "code",
   "execution_count": 13,
   "metadata": {},
   "outputs": [],
   "source": [
    "total_dw_solar = np.round(radsys_ds.where(radsys_ds['dw_solar_qc'] == 0).groupby('LocalTime.hour').mean()['dw_solar'].sum().values,-1)\n",
    "total_uw_solar = np.round(radsys_ds.where(radsys_ds['uw_solar_qc'] == 0).groupby('LocalTime.hour').mean()['uw_solar'].sum().values,-1)\n",
    "total_dw_lw = np.round(radsys_ds.where(radsys_ds['dw_ir_qc'] == 0).groupby('LocalTime.hour').mean()['dw_ir'].sum().values,-1)\n",
    "total_uw_lw = np.round(radsys_ds.where(radsys_ds['uw_ir_qc'] == 0).groupby('LocalTime.hour').mean()['uw_ir'].sum().values,-1)\n",
    "total_netrad = np.round(netrad.sum().values,-1)"
   ]
  },
  {
   "cell_type": "code",
   "execution_count": 23,
   "metadata": {},
   "outputs": [
    {
     "data": {
      "text/plain": [
       "[<matplotlib.lines.Line2D at 0x238548a0160>]"
      ]
     },
     "execution_count": 23,
     "metadata": {},
     "output_type": "execute_result"
    },
    {
     "data": {
      "image/png": "[encoded data removed]",
      "text/plain": [
       "<Figure size 640x480 with 1 Axes>"
      ]
     },
     "metadata": {},
     "output_type": "display_data"
    }
   ],
   "source": [
    "import matplotlib.pyplot as plt\n",
    "# Plot of diurnal energy balance for the period we downloaded from the SPLASH data\n",
    "radsys_ds.where(radsys_ds['dw_solar_qc'] == 0).groupby('LocalTime.hour').mean()['dw_solar'].plot()\n",
    "(-radsys_ds.where(radsys_ds['uw_solar_qc'] == 0).groupby('LocalTime.hour').mean()['uw_solar']).plot()\n",
    "radsys_ds.where(radsys_ds['dw_ir_qc'] == 0).groupby('LocalTime.hour').mean()['dw_ir'].plot()\n",
    "(-radsys_ds.where(radsys_ds['uw_ir_qc'] == 0).groupby('LocalTime.hour').mean()['uw_ir']).plot()"
   ]
  },
  {
   "attachments": {},
   "cell_type": "markdown",
   "metadata": {},
   "source": [
    "### Use Pysolar to get clear sky radiation time series"
   ]
  },
  {
   "cell_type": "code",
   "execution_count": 75,
   "metadata": {},
   "outputs": [],
   "source": [
    "import pytz\n",
    "kettle_ponds_lat_lon = [-106.97298,38.94182]\n",
    "dates = pd.date_range(dt.datetime(2022,1,20,0,0),dt.datetime(2022,1,25,0,0),  freq='1H')\n",
    "\n",
    "clear_sky_rad = []\n",
    "for date in dates:\n",
    "    date = (pytz.utc.localize(date)).to_pydatetime()\n",
    "    altitude_deg = get_altitude(kettle_ponds_lat_lon[1], kettle_ponds_lat_lon[0], date)\n",
    "    clear_sky_rad.append(radiation.get_radiation_direct(date, altitude_deg))"
   ]
  },
  {
   "cell_type": "code",
   "execution_count": 76,
   "metadata": {},
   "outputs": [
    {
     "data": {
      "text/plain": [
       "[<matplotlib.lines.Line2D at 0x23857fa9730>]"
      ]
     },
     "execution_count": 76,
     "metadata": {},
     "output_type": "execute_result"
    },
    {
     "data": {
      "image/png": "[encoded data removed]",
      "text/plain": [
       "<Figure size 640x480 with 1 Axes>"
      ]
     },
     "metadata": {},
     "output_type": "display_data"
    }
   ],
   "source": [
    "plt.plot(dates,clear_sky_rad)"
   ]
  },
  {
   "cell_type": "code",
   "execution_count": null,
   "metadata": {},
   "outputs": [],
   "source": []
  }
 ],
 "metadata": {
  "kernelspec": {
   "display_name": "sos_env",
   "language": "python",
   "name": "python3"
  },
  "language_info": {
   "codemirror_mode": {
    "name": "ipython",
    "version": 3
   },
   "file_extension": ".py",
   "mimetype": "text/x-python",
   "name": "python",
   "nbconvert_exporter": "python",
   "pygments_lexer": "ipython3",
   "version": "3.9.13"
  },
  "orig_nbformat": 4
 },
 "nbformat": 4,
 "nbformat_minor": 2
}
